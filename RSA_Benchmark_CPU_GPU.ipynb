{
  "cells": [
    {
      "cell_type": "markdown",
      "source": [
        "<html>\n",
        "  <body>\n",
        "\n",
        "  <p align=\"center\"><img src=\"https://cdn-07.9rayti.com/rsrc/cache/widen_224/uploads/2012/07/ensias.png\" alt=\"logo ensias\" width=\"180\" height=\"165\"/>\n",
        "</p>\n",
        "\n",
        "<p align=\"center\"><b><font size=\"5\">RSA Benchmarking : CPU vs GPU </font></b></p>\n",
        "\n",
        "\n",
        "---\n",
        "\n",
        "\n",
        "<br>\n",
        "<font size=\"3\">\n",
        "<b>Description :</b>\t\n",
        "<font size=\"3\">\n",
        "In this Project we implemented 'RSA' Algorithm which is an asymmetric encryption system that is widely used for secure data transmission. We divided the algorithm into three parts: generation of pair of prime number, calculate public and private keys, finally encryption and decryption of a text. We used Python as a programming language and Cuda as a framework for GPU code then we run everything on Google Collab (https://colab.research.google.com) which has a Tesla K4 GPU.\n",
        "</font>\t\t\n",
        "\n",
        "\n",
        "---\n",
        "\n",
        "<font size=\"2\">\n",
        "<I><b>Supervised by our dear Professor :</b> Meryeme Ayache <br>\n",
        "<b>Presented by :</b> Rania Aichi - Karim Bouanane - Zakariae Hamedoun </I>\n",
        "</font>\n",
        "<br>\n",
        "<br>\n",
        "\n",
        "\n",
        "</body>\n",
        "</html>\n"
      ],
      "metadata": {
        "id": "KZ9kROyBtr8p"
      }
    },
    {
      "cell_type": "markdown",
      "metadata": {
        "id": "XU_u6Mf7Aw_q"
      },
      "source": [
        "# Dependencies"
      ]
    },
    {
      "cell_type": "code",
      "source": [
        "!pip install gmpy2"
      ],
      "metadata": {
        "id": "clV3ggCvDHBu"
      },
      "execution_count": null,
      "outputs": []
    },
    {
      "cell_type": "code",
      "source": [
        "# Dependencies\n",
        "from math import sqrt, ceil, gcd\n",
        "from numba import cuda\n",
        "import matplotlib.pyplot as plt\n",
        "import pandas as pd\n",
        "import numpy as np\n",
        "import random\n",
        "import timeit\n",
        "import gmpy2"
      ],
      "metadata": {
        "id": "qpGNqi-XgnFg"
      },
      "execution_count": 2,
      "outputs": []
    },
    {
      "cell_type": "markdown",
      "source": [
        "# Generate pairs of prime numbers"
      ],
      "metadata": {
        "id": "rHkSjq8pOLMN"
      }
    },
    {
      "cell_type": "code",
      "source": [
        "def is_prime_cpu(num, limit):\n",
        "  # Returns True if the number is prime else False.\n",
        "  for x in range(3, limit, 2):\n",
        "    if num % x == 0:\n",
        "      return False\n",
        "  return True\n",
        "\n",
        "def checkPrime_CPU(number):\n",
        "  if number % 2 != 0:\n",
        "    limit = ceil(sqrt(number))\n",
        "\n",
        "    cpu_starttime = timeit.default_timer()\n",
        "    isprime = is_prime_cpu(number, limit)\n",
        "    cpu_check_time = timeit.default_timer() - cpu_starttime\n",
        "    \n",
        "    if isprime == True:\n",
        "      return cpu_check_time\n",
        "  return False"
      ],
      "metadata": {
        "id": "IEuXU6jTdWL_"
      },
      "execution_count": 3,
      "outputs": []
    },
    {
      "cell_type": "code",
      "source": [
        "@cuda.jit\n",
        "def is_prime_gpu(num, limit, flag):\n",
        "  thread_position = cuda.grid(1) * 2 + 3\n",
        "  if thread_position < limit:\n",
        "      if num % thread_position == 0:\n",
        "        flag[0] = False\n",
        "\n",
        "def checkPrime_GPU(number):\n",
        "  if number % 2 != 0:\n",
        "    flag = np.array([True])\n",
        "    limit = ceil(sqrt(number))\n",
        "    totalThreads = ceil((limit-2)/2)\n",
        "    numBlocks = ceil(totalThreads / 1024.0)\n",
        "    blockDim = 1024\n",
        "    \n",
        "    gpu_starttime = timeit.default_timer()\n",
        "    is_prime_gpu[numBlocks, blockDim](number, limit, flag)\n",
        "    gpu_check_time = timeit.default_timer() - gpu_starttime\n",
        "\n",
        "    if flag[0] == True:\n",
        "      return gpu_check_time\n",
        "\n",
        "  return False"
      ],
      "metadata": {
        "id": "XOyRxUfD8myh"
      },
      "execution_count": 4,
      "outputs": []
    },
    {
      "cell_type": "code",
      "source": [
        "def getPrimeNumber(bitLength):\n",
        "  # Returns a prime number of the specified bit length.\n",
        "  while True:\n",
        "    number = random.getrandbits(bitLength)\n",
        "    # CPU check\n",
        "    c = checkPrime_CPU(number)\n",
        "    if c != False:\n",
        "      # GPU check\n",
        "      g = checkPrime_GPU(number)\n",
        "      return {'number': number, 'cpuTime': c, 'gpuTime': g}\n",
        "\n",
        "def generatePairPrime(keySize):\n",
        "  # keysize is the bit length of n = p * q\n",
        "  result = {}\n",
        "  p_size = q_size = keySize // 2\n",
        "  if keySize % 2 != 0:\n",
        "    q_size += 1\n",
        "  \n",
        "  res_p = getPrimeNumber(p_size)\n",
        "  res_q = getPrimeNumber(q_size)\n",
        "  result['pairPrime'] = (res_p['number'] , res_q['number'])\n",
        "  result['cpuTime'] = res_p['cpuTime'] + res_q['cpuTime']\n",
        "  result['gpuTime'] = res_p['gpuTime'] + res_q['gpuTime']\n",
        "  return result"
      ],
      "metadata": {
        "id": "Pr9uWLyPdgOu"
      },
      "execution_count": 5,
      "outputs": []
    },
    {
      "cell_type": "markdown",
      "source": [
        "## Plot performance results"
      ],
      "metadata": {
        "id": "ZPM5ouSJBTLb"
      }
    },
    {
      "cell_type": "code",
      "source": [
        "x_axis = np.arange(32,80)\n",
        "y_cpu = []\n",
        "y_gpu = []\n",
        "\n",
        "for y in x_axis:\n",
        "  # get pairs of prime numbers with cpu checking time\n",
        "  # and gpu checking time\n",
        "  res = generatePairPrime(y)\n",
        "  y_cpu.append(res['cpuTime'])\n",
        "  y_gpu.append(res['gpuTime'])\n",
        "\n",
        "f = plt.figure()\n",
        "f.set_figwidth(15)\n",
        "f.set_figheight(10)\n",
        "\n",
        "plt.bar(x_axis-0.2, y_cpu, width = 0.4, label = \"cpu\")\n",
        "plt.bar(x_axis+0.2, y_gpu, width = 0.4, label = \"gpu\")\n",
        "\n",
        "plt.xlabel('keysize')\n",
        "plt.ylabel('duration (seconds)')\n",
        "plt.title('CPU vs GPU: primes pair generation')\n",
        "plt.legend()\n",
        "plt.show()"
      ],
      "metadata": {
        "colab": {
          "base_uri": "https://localhost:8080/",
          "height": 524
        },
        "id": "0SfwbAf9BScl",
        "outputId": "2de8677b-63e6-4c04-cd4d-7fab65ef6e1a"
      },
      "execution_count": 7,
      "outputs": [
        {
          "output_type": "display_data",
          "data": {
            "text/plain": [
              "<Figure size 1080x720 with 1 Axes>"
            ],
            "image/png": "[encoded data removed]"
          },
          "metadata": {
            "needs_background": "light"
          }
        }
      ]
    },
    {
      "cell_type": "markdown",
      "source": [
        "# 2. Generate public & private keys"
      ],
      "metadata": {
        "id": "OL0ytP93OqWN"
      }
    },
    {
      "cell_type": "markdown",
      "source": [
        "> ## Private key : d"
      ],
      "metadata": {
        "id": "GROAZaXHADCB"
      }
    },
    {
      "cell_type": "code",
      "source": [
        "def findD(e, phi):\n",
        "  # The private key d has to satisfy this condition (d * e) % phi = 1\n",
        "  return int(gmpy2.divm(1, e, phi))\n",
        "\n",
        "def getPrivateKey(e, phi):\n",
        "  d = findD(e, phi)\n",
        "  return d"
      ],
      "metadata": {
        "id": "pzCtTt-c_nuC"
      },
      "execution_count": 8,
      "outputs": []
    },
    {
      "cell_type": "markdown",
      "source": [
        "> ## Public key : e"
      ],
      "metadata": {
        "id": "MW_m7jj-AHbf"
      }
    },
    {
      "cell_type": "code",
      "source": [
        "def is_coprime(x,y):\n",
        "  return gcd(x,y) == 1\n",
        "\n",
        "def findE(n, phi):\n",
        "  # public key \"e\" must be greater than 1 and less than the phi = (p-1)(q-1). \n",
        "  # It also has to be co-prime with modulus, and fi function \n",
        "  while True:\n",
        "      e = random.randrange(2, phi)\n",
        "      if is_coprime(e, n) == True and is_coprime(e, phi) == True:\n",
        "        break\n",
        "  return e\n",
        "\n",
        "def getPublicKey(n, phi):\n",
        "  e = findE(n, phi)\n",
        "  return e"
      ],
      "metadata": {
        "id": "rZj9ou5H_Ydd"
      },
      "execution_count": 9,
      "outputs": []
    },
    {
      "cell_type": "markdown",
      "source": [
        "> ## Keys (n,e), (n,d)"
      ],
      "metadata": {
        "id": "Px-RRJfrBBe5"
      }
    },
    {
      "cell_type": "code",
      "source": [
        "def getRSAKeys(keySize):\n",
        "  res = generatePairPrime(keySize)\n",
        "  p = res['pairPrime'][0]\n",
        "  q = res['pairPrime'][1]\n",
        "  n =  p * q\n",
        "  phi = (p-1)*(q-1)\n",
        "  e = getPublicKey(n, phi)\n",
        "  d = getPrivateKey(e, phi)\n",
        "  return ((n,e), (n,d))"
      ],
      "metadata": {
        "id": "SM639Wl7AzFP"
      },
      "execution_count": 10,
      "outputs": []
    },
    {
      "cell_type": "code",
      "source": [
        "getRSAKeys(64)"
      ],
      "metadata": {
        "colab": {
          "base_uri": "https://localhost:8080/",
          "height": 0
        },
        "id": "aPdljeE7YRxZ",
        "outputId": "b2cd5b78-1974-4e7f-8d5b-2d730e6ad5bb"
      },
      "execution_count": 11,
      "outputs": [
        {
          "output_type": "execute_result",
          "data": {
            "text/plain": [
              "((10514499886446081739, 9663441214951930261),\n",
              " (10514499886446081739, 2430174453680291341))"
            ]
          },
          "metadata": {},
          "execution_count": 11
        }
      ]
    },
    {
      "cell_type": "markdown",
      "source": [
        "# 3. Encryption/Decryption"
      ],
      "metadata": {
        "id": "oaLacHyLy-ks"
      }
    },
    {
      "cell_type": "markdown",
      "source": [
        "## The Encryption Function\n",
        "$C = P^e*mod(n)$\n",
        "<br>\n",
        "* C : The Crypted Message (**C**hipertext)\n",
        "* P : The Original Message (**P**laintext)"
      ],
      "metadata": {
        "id": "VjGg1-t_F-L8"
      }
    },
    {
      "cell_type": "code",
      "source": [
        "message = \"Lorem ipsum dolor sit amet, consectetur adipiscing elit, sed do eiusmod tempor incididunt ut labore.\""
      ],
      "metadata": {
        "id": "2pbGaB-oy5Lx"
      },
      "execution_count": 21,
      "outputs": []
    },
    {
      "cell_type": "code",
      "source": [
        "def encrypt_cpu(msg_plaintext, pubKey):\n",
        "  n, e = pubKey\n",
        "  msg_ciphertext = [pow(ord(c), e, n) for c in msg_plaintext]\n",
        "  return msg_ciphertext\n",
        "\n",
        "@cuda.jit\n",
        "def encrypt_gpu(msg_ciphertext, msg_plaintext, msg_length, n, e):\n",
        "  thread_position = cuda.grid(1)\n",
        "  if( thread_position < msg_length):\n",
        "    #n, e = pubKey\n",
        "    c = msg_plaintext[thread_position]\n",
        "    #msg_ciphertext[thread_position] = (ord(c)**e) % n #pow(ord(c), e, n)\n",
        "    msg_ciphertext[thread_position] = (c**e) % n"
      ],
      "metadata": {
        "id": "6Sq1bjsVyZ-Y"
      },
      "execution_count": 13,
      "outputs": []
    },
    {
      "cell_type": "code",
      "source": [
        "def getEncryptedMssg_cpu(msg_plaintext, pubKey):\n",
        "  result = {}\n",
        "  encryptCPUStartTime = timeit.default_timer()\n",
        "  msg_ciphertext = encrypt_cpu(msg_plaintext, pubKey)\n",
        "  encryptCPUDuration = timeit.default_timer() - encryptCPUStartTime\n",
        "  \n",
        "  result['cpuTime'] = encryptCPUDuration\n",
        "  result['encryptedMssg'] = msg_ciphertext\n",
        "  return result\n",
        "\n",
        "def getEncryptedMssg_gpu(msg_plaintext, pubKey):\n",
        "  result = {}\n",
        "  n,e = pubKey\n",
        "  msg_length = len(msg_plaintext)\n",
        "  msg_ciphertext = np.zeros(msg_length)\n",
        "  msg_origintext = np.array([ord(c) for c in msg_plaintext])\n",
        "\n",
        "  # setup kernel configuration\n",
        "  totalThreads = msg_length\n",
        "  numBlocks = ceil(totalThreads / 1024.0)\n",
        "  blockDim = 1024\n",
        "\n",
        "  # use public key to encrypt message\n",
        "  encryptGPUStartTime = timeit.default_timer()\n",
        "  encrypt_gpu[numBlocks, blockDim](msg_ciphertext, msg_origintext, msg_length, n, e)\n",
        "  encryptGPUDuration = timeit.default_timer() - encryptGPUStartTime\n",
        "\n",
        "  result['gpuTime'] = encryptGPUDuration\n",
        "  result['encryptedMssg'] = msg_ciphertext\n",
        "  return result"
      ],
      "metadata": {
        "id": "cz4NeNsWnIgG"
      },
      "execution_count": 14,
      "outputs": []
    },
    {
      "cell_type": "markdown",
      "source": [
        "## The Decryption Function\n",
        "$P = C^d*mod(n)$\n",
        "<br>\n",
        "* P : The Original Message (**P**laintext)\n",
        "* C : The Crypted Message (**C**hipertext)"
      ],
      "metadata": {
        "id": "99flxAZsIFsN"
      }
    },
    {
      "cell_type": "code",
      "source": [
        "def decrypt_cpu(msg_ciphertext, privKey):\n",
        "  n, d = privKey\n",
        "  msg_plaintext = [chr(pow(c, d, n)) for c in msg_ciphertext]\n",
        "  # No need to use ord() since c is now a number\n",
        "  # After decryption, we cast it back to character\n",
        "  # to be joined in a string for the final result\n",
        "  return (''.join(msg_plaintext))\n",
        "\n",
        "@cuda.jit\n",
        "def decrypt_gpu(msg_ciphertext, msg_origintext, msg_length, n, d):\n",
        "  thread_position = cuda.grid(1)\n",
        "  if(thread_position < msg_length):\n",
        "    c = msg_ciphertext[thread_position]\n",
        "    msg_origintext[thread_position] = (c ** d) % n #chr(pow(c, d, n)) #chr((c**d)%n)"
      ],
      "metadata": {
        "id": "ZA2z1J6gIC7X"
      },
      "execution_count": 38,
      "outputs": []
    },
    {
      "cell_type": "code",
      "source": [
        "def getDecryptedMssg_cpu(msg_ciphertext, privKey):\n",
        "  result = {}\n",
        "  decryptCPUStartTime = timeit.default_timer()\n",
        "  msg_origin = decrypt_cpu(msg_ciphertext, privKey)\n",
        "  decryptCPUDuration = timeit.default_timer() - decryptCPUStartTime\n",
        "  \n",
        "  result['cpuTime'] = decryptCPUDuration\n",
        "  result['decryptedMssg'] = msg_origin\n",
        "  return result\n",
        "\n",
        "def getDecryptedMssg_gpu(msg_ciphertext, privKey):\n",
        "  result = {}\n",
        "  n, d = privKey\n",
        "  msg_length = len(msg_ciphertext)\n",
        "  msg_origintext = np.zeros(msg_length)\n",
        "\n",
        "  # setup kernel configuration\n",
        "  totalThreads = msg_length\n",
        "  numBlocks = ceil(totalThreads / 1024.0)\n",
        "  blockDim = 1024\n",
        "\n",
        "  # use private key to decrypt ciphermessage\n",
        "  decryptGPUStartTime = timeit.default_timer()\n",
        "  decrypt_gpu[numBlocks, blockDim](msg_ciphertext, msg_origintext, msg_length, n, d)\n",
        "  decryptGPUDuration = timeit.default_timer() - decryptGPUStartTime\n",
        "\n",
        "  result['gpuTime'] = decryptGPUDuration\n",
        "  result['decryptedMssg'] = msg_ciphertext\n",
        "  return result"
      ],
      "metadata": {
        "id": "xMaBf7a3antS"
      },
      "execution_count": 51,
      "outputs": []
    },
    {
      "cell_type": "markdown",
      "source": [
        "# Plot performance results"
      ],
      "metadata": {
        "id": "tGSzorIv4_t0"
      }
    },
    {
      "cell_type": "code",
      "source": [
        "publicKey, privateKey = getRSAKeys(32)\n",
        "\n",
        "x_axis = sizex100 = np.arange(1000,1020)\n",
        "y_cpu = []\n",
        "y_gpu = []\n",
        "\n",
        "for n in sizex100:\n",
        "  testMsg = message * n\n",
        "\n",
        "  encCPU = getEncryptedMssg_cpu(testMsg, publicKey)\n",
        "  decCPU = getDecryptedMssg_cpu(encCPU['encryptedMssg'], privateKey)\n",
        "  y_cpu.append(encCPU['cpuTime'] + decCPU['cpuTime'])\n",
        "\n",
        "  encGPU = getEncryptedMssg_gpu(testMsg, publicKey)\n",
        "  decGPU = getDecryptedMssg_gpu(encGPU['encryptedMssg'], privateKey)\n",
        "  y_gpu.append(encGPU['gpuTime'] + decGPU['gpuTime'])\n",
        "\n",
        "\n",
        "f = plt.figure()\n",
        "f.set_figwidth(15)\n",
        "f.set_figheight(10)\n",
        "\n",
        "plt.bar(x_axis-0.2, y_cpu, width = 0.4, label = \"cpu\")\n",
        "plt.bar(x_axis+0.2, y_gpu, width = 0.4, label = \"gpu\")\n",
        "\n",
        "plt.xlabel('Message Size (x100 characters)')\n",
        "plt.ylabel('duration (seconds)')\n",
        "plt.title('CPU vs GPU: time of encryption and decryption')\n",
        "plt.legend()\n",
        "plt.show()"
      ],
      "metadata": {
        "colab": {
          "base_uri": "https://localhost:8080/",
          "height": 525
        },
        "id": "AflPHf1U3wav",
        "outputId": "8eff4fa8-72ac-4fa9-b1fd-cc0da13bd210"
      },
      "execution_count": 52,
      "outputs": [
        {
          "output_type": "display_data",
          "data": {
            "text/plain": [
              "<Figure size 1080x720 with 1 Axes>"
            ],
            "image/png": "[encoded data removed]"
          },
          "metadata": {
            "needs_background": "light"
          }
        }
      ]
    }
  ],
  "metadata": {
    "accelerator": "GPU",
    "colab": {
      "collapsed_sections": [],
      "name": "Copy of RSA_Benchmark_CPU_GPU.ipynb",
      "provenance": []
    },
    "kernelspec": {
      "display_name": "Python 3",
      "name": "python3"
    },
    "language_info": {
      "name": "python"
    }
  },
  "nbformat": 4,
  "nbformat_minor": 0
}